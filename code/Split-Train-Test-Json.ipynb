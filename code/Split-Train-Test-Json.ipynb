{
 "cells": [
  {
   "cell_type": "markdown",
   "metadata": {},
   "source": [
    "# Spliting the Json file into Training and Testing Jsons "
   ]
  },
  {
   "cell_type": "code",
   "execution_count": 1,
   "metadata": {},
   "outputs": [],
   "source": [
    "import pandas as pd  \n",
    "import json\n",
    "import re\n",
    "import spacy\n",
    "from collections import Counter\n",
    "import csv\n",
    "from sklearn.feature_extraction.text import TfidfVectorizer\n",
    "import numpy as np"
   ]
  },
  {
   "cell_type": "code",
   "execution_count": 8,
   "metadata": {},
   "outputs": [],
   "source": [
    "file = 'data/essay_corpus.json'\n",
    "with open('data/train-test-split.csv', 'r',encoding=\"latin1\") as tts:\n",
    "    with open(file, encoding=\"latin1\")as corpora:\n",
    "        json_file = json.load(corpora)\n",
    "        corpora_test = []\n",
    "        corpora_train = []\n",
    "        no_of_essays = 0\n",
    "        reader = csv.reader(tts, delimiter = \";\")\n",
    "        for row in reader:\n",
    "            if row[1] == \"TRAIN\":\n",
    "                for json_elements in json_file:\n",
    "                    if json_elements[\"id\"] == int(row[0][-3:]):\n",
    "                        corpora_train.append(json_elements)\n",
    "            elif row[1] == \"TEST\":\n",
    "                for json_elements in json_file:\n",
    "                        if json_elements[\"id\"] == int(row[0][-3:]):\n",
    "                            corpora_test.append(json_elements)\n",
    "            else:\n",
    "                pass\n",
    "with open(\"data/Training.json\", \"w\") as file:\n",
    "    json.dump(corpora_train, file, indent=4)\n",
    "\n",
    "with open(\"data/Testing.json\", \"w\") as file:\n",
    "    json.dump(corpora_test, file, indent=4)\n"
   ]
  },
  {
   "cell_type": "code",
   "execution_count": 3,
   "metadata": {},
   "outputs": [],
   "source": [
    "import nltk\n",
    "from nltk import word_tokenize"
   ]
  },
  {
   "cell_type": "code",
   "execution_count": null,
   "metadata": {},
   "outputs": [],
   "source": []
  }
 ],
 "metadata": {
  "kernelspec": {
   "display_name": "Python 3",
   "language": "python",
   "name": "python3"
  },
  "language_info": {
   "codemirror_mode": {
    "name": "ipython",
    "version": 3
   },
   "file_extension": ".py",
   "mimetype": "text/x-python",
   "name": "python",
   "nbconvert_exporter": "python",
   "pygments_lexer": "ipython3",
   "version": "3.8.2"
  }
 },
 "nbformat": 4,
 "nbformat_minor": 4
}
